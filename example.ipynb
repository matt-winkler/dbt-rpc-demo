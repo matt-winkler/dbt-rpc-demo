{
 "cells": [
  {
   "cell_type": "code",
   "execution_count": 1,
   "id": "55e1d55a-d6cd-4e61-9548-47cfc0708ce3",
   "metadata": {},
   "outputs": [],
   "source": [
    "# source for ipython magics: https://github.com/jmriego/dbt-ipy"
   ]
  },
  {
   "cell_type": "code",
   "execution_count": 21,
   "id": "7072349d-7f66-4cdc-9d8c-0e838bc1b1af",
   "metadata": {},
   "outputs": [
    {
     "name": "stdout",
     "output_type": "stream",
     "text": [
      "The dbt-ipy extension is already loaded. To reload it, use:\n",
      "  %reload_ext dbt-ipy\n"
     ]
    }
   ],
   "source": [
    "%load_ext dbt-ipy"
   ]
  },
  {
   "cell_type": "code",
   "execution_count": null,
   "id": "a46a21db-7703-4a6f-a97d-7df6796e0efe",
   "metadata": {},
   "outputs": [],
   "source": [
    "# open a terminal and run dbt-rpc serve --profiles-dir .\n",
    "# don't run this from a notebook cell or it will lock up your notebook"
   ]
  },
  {
   "cell_type": "code",
   "execution_count": 22,
   "id": "334127f7-411f-4f85-8f0f-dbb0ca88d992",
   "metadata": {},
   "outputs": [
    {
     "data": {
      "text/plain": [
       "<dbt-ipy.dbt_ipy.Querier at 0x10b05c1f0>"
      ]
     },
     "execution_count": 22,
     "metadata": {},
     "output_type": "execute_result"
    }
   ],
   "source": [
    "%dbt rpc"
   ]
  },
  {
   "cell_type": "code",
   "execution_count": 23,
   "id": "dcdcf99c-b96a-4670-aa45-9b682801aecb",
   "metadata": {},
   "outputs": [
    {
     "data": {
      "text/plain": [
       "SELECT * FROM \"dev\".\"dbt_mwinkler\".\"my_first_dbt_model\""
      ]
     },
     "execution_count": 23,
     "metadata": {},
     "output_type": "execute_result"
    }
   ],
   "source": [
    "%%compile_sql\n",
    "SELECT * FROM {{ref('my_first_dbt_model')}}"
   ]
  },
  {
   "cell_type": "code",
   "execution_count": 17,
   "id": "ee181321-142e-4453-a148-20cfc0aec32e",
   "metadata": {},
   "outputs": [
    {
     "name": "stdout",
     "output_type": "stream",
     "text": [
      "| id |\n",
      "| -- |\n",
      "|  1 |\n",
      "|    |\n"
     ]
    },
    {
     "data": {
      "text/plain": [
       "<agate.table.Table at 0x10afa5520>"
      ]
     },
     "execution_count": 17,
     "metadata": {},
     "output_type": "execute_result"
    }
   ],
   "source": [
    "%%run_sql\n",
    "SELECT * FROM {{ref('my_first_dbt_model')}}"
   ]
  },
  {
   "cell_type": "code",
   "execution_count": 18,
   "id": "1fdadadd-f5a5-4291-a656-7f0c6c7149a3",
   "metadata": {},
   "outputs": [],
   "source": [
    "result = _"
   ]
  },
  {
   "cell_type": "code",
   "execution_count": 20,
   "id": "389d2d88-b255-426b-bb15-081c5ee374ea",
   "metadata": {},
   "outputs": [
    {
     "name": "stdout",
     "output_type": "stream",
     "text": [
      "Number of rows in previous query 2\n",
      "| id |\n",
      "| -- |\n",
      "|  1 |\n"
     ]
    }
   ],
   "source": [
    "print('Number of rows in previous query {}'.format(len(result.rows)))\n",
    "result.where(lambda row: row['id'] == 1).print_table()"
   ]
  },
  {
   "cell_type": "code",
   "execution_count": null,
   "id": "2cdc1684-fb95-4c05-b077-f67ea7338cf1",
   "metadata": {},
   "outputs": [],
   "source": []
  }
 ],
 "metadata": {
  "kernelspec": {
   "display_name": "Python 3 (ipykernel)",
   "language": "python",
   "name": "python3"
  },
  "language_info": {
   "codemirror_mode": {
    "name": "ipython",
    "version": 3
   },
   "file_extension": ".py",
   "mimetype": "text/x-python",
   "name": "python",
   "nbconvert_exporter": "python",
   "pygments_lexer": "ipython3",
   "version": "3.9.10"
  }
 },
 "nbformat": 4,
 "nbformat_minor": 5
}
